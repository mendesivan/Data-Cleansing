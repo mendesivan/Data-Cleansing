{
 "cells": [
  {
   "cell_type": "code",
   "execution_count": null,
   "metadata": {},
   "outputs": [],
   "source": [
    "import pandas as pd\n",
    "import numpy as np\n",
    "\n",
    "df = pd.read_csv('olympics.csv', encoding='latin-1',index_col='Country',) \n",
    "\n",
    "#to resolve encoding error use (encoding='latin-1')\n",
    "#index_col= to select the column that you want to use as the index\n",
    "#usecols= to select columns you want to use (would be most useful if selecting only a few columns)\n",
    "\n",
    "df.head()\n",
    "\n",
    "#In this case since we only want to drop a few columns we can use to_drop function\n",
    "\n",
    "to_drop = ['Total','Total.1','Total Games','Gold .2','Silver .2','Bronze.2','Combined total']\n",
    "\n",
    "#we can always formulate the totals per games, gold, silver, bronze and total games.\n",
    "\n",
    "df.drop(to_drop, inplace = True, axis = 1)\n",
    "\n",
    "#renaming columns\n",
    "\n",
    "df.columns = ['Summer','Gold','Silver','Bronze','Winter','Gold1','Silver1','Bronze1']\n",
    "df.head()"
   ]
  }
 ],
 "metadata": {
  "kernelspec": {
   "display_name": "Python 3",
   "language": "python",
   "name": "python3"
  },
  "language_info": {
   "codemirror_mode": {
    "name": "ipython",
    "version": 3
   },
   "file_extension": ".py",
   "mimetype": "text/x-python",
   "name": "python",
   "nbconvert_exporter": "python",
   "pygments_lexer": "ipython3",
   "version": "3.7.0"
  }
 },
 "nbformat": 4,
 "nbformat_minor": 2
}
