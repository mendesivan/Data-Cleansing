{
 "cells": [
  {
   "cell_type": "code",
   "execution_count": null,
   "metadata": {},
   "outputs": [],
   "source": [
    "#Importing Libraries, csv file, cleaning the data and accessing records.\n",
    "import pandas as pd\n",
    "import numpy as np\n",
    "\n",
    "df = pd.read_csv('Flickr_raw.csv', encoding='latin-1',usecols=['Identifier','Place of Publication','Date of Publication','Publisher','Title','Author','Flickr URL']) #to resolve following error: UnicodeDecodeError, invalid continuation byte\n",
    "df.head()\n",
    "\n",
    "#In this scenario we utilize Pandas' \"usecols\" feature to select the columns that we want to use rather than utilizing the drop feature.\n",
    "\n",
    "#Alternative way of setting the Index....(in pd.read_csv, one can utilize the following: \"index_col=\"COLUMN NAME\"\")\n",
    "\n",
    "df['Identifier'].is_unique #test to check if Identifier is unique\n",
    "df = df.set_index('Identifier')\n",
    "df.head()\n",
    "\n",
    "#accessing a record\n",
    "df.loc[206] #access by ID #\n",
    "df.iloc[0] #access by position (0 as in first, 1 as in second)\n"
   ]
  },
  {
   "cell_type": "code",
   "execution_count": null,
   "metadata": {},
   "outputs": [],
   "source": [
    "#Tidying up the data\n",
    "\n",
    "#find the data types\n",
    "df.get_dtype_counts() #result: 6 objects, int64 type\n",
    "\n",
    "#We need to enforce a numerical value to the date of publications.\n",
    "df.loc[1905:,'Date of Publication'].head(10)\n",
    "\n",
    "#To do:\n",
    "#1. Remove the extra dates in [] where present\n",
    "#2. Convert date ranges to their \"start date\"\n",
    "#3. Completely remove dates we are not certain about and replace with \"NaN\"\n",
    "#4. Convert the string \"nan\" to NumPy's NaN Value\n",
    "\n",
    "#we can actually take advantage of a single regular expression to extract the publication year:\n",
    "#the regular expression (regex) is meant to find any four digits at the beginning of a string.\n",
    "extr = df['Date of Publication'].str.extract( r'^(\\d{4})',expand = False)\n",
    "extr.head()\n",
    "\n",
    "#access a column...df['Column Name']. Change its object type to numeric\n",
    "df['Date of Publication'] = pd.to_numeric(extr)\n",
    "df['Date of Publication'].dtype\n",
    "\n",
    "#result? 1/10 value is being missed in above formulation.\n",
    "df['Date of Publication'].isnull().sum() / len(df)"
   ]
  },
  {
   "cell_type": "code",
   "execution_count": null,
   "metadata": {},
   "outputs": [],
   "source": [
    "#Combining str Methods with NumPy to Clean Columns\n",
    "# np.where(condition1, x1, \n",
    "        #np.where(condition2, x2, \n",
    "            #np.where(condition3, x3, ...))) #can be nested. functions like an if statement in excel.\n",
    "\n",
    "        \n",
    "df['Place of Publication'].head(10)\n",
    "df.loc[4157862] #these two books were published at the same place, but spelling is different for both.\n",
    "#df.loc[4159587]\n",
    "\n",
    "pub = df['Place of Publication']\n",
    "london = pub.str.contains('London')\n",
    "oxford = pub.str.contains('Oxford')\n",
    "\n",
    "#combine them with np.where:\n",
    "df['Place of Publication'] = np.where(london,'London',\n",
    "                                      np.where(oxford,'Oxford',\n",
    "                                              pub.str.replace('-',' ')))\n",
    "df['Place of Publication'].head(25)\n"
   ]
  },
  {
   "cell_type": "code",
   "execution_count": null,
   "metadata": {},
   "outputs": [],
   "source": [
    "#Export to Excel\n",
    "df.to_excel(\"output.xlsx\")  "
   ]
  }
 ],
 "metadata": {
  "kernelspec": {
   "display_name": "Python 3",
   "language": "python",
   "name": "python3"
  },
  "language_info": {
   "codemirror_mode": {
    "name": "ipython",
    "version": 3
   },
   "file_extension": ".py",
   "mimetype": "text/x-python",
   "name": "python",
   "nbconvert_exporter": "python",
   "pygments_lexer": "ipython3",
   "version": "3.7.0"
  }
 },
 "nbformat": 4,
 "nbformat_minor": 2
}
